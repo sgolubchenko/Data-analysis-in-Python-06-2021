{
 "cells": [
  {
   "cell_type": "code",
   "execution_count": 1,
   "metadata": {},
   "outputs": [],
   "source": [
    "import pandas as pd\n",
    "import numpy as np"
   ]
  },
  {
   "cell_type": "markdown",
   "metadata": {},
   "source": [
    "Загрузим датасет по поездкам велобайка в Нью Йорке"
   ]
  },
  {
   "cell_type": "code",
   "execution_count": 2,
   "metadata": {},
   "outputs": [],
   "source": [
    "df = pd.read_csv('citibike.csv')"
   ]
  },
  {
   "cell_type": "markdown",
   "metadata": {},
   "source": [
    "### Размер датасета, типы данных и названия столбцов"
   ]
  },
  {
   "cell_type": "code",
   "execution_count": 3,
   "metadata": {},
   "outputs": [
    {
     "data": {
      "text/html": [
       "<div>\n",
       "<style scoped>\n",
       "    .dataframe tbody tr th:only-of-type {\n",
       "        vertical-align: middle;\n",
       "    }\n",
       "\n",
       "    .dataframe tbody tr th {\n",
       "        vertical-align: top;\n",
       "    }\n",
       "\n",
       "    .dataframe thead th {\n",
       "        text-align: right;\n",
       "    }\n",
       "</style>\n",
       "<table border=\"1\" class=\"dataframe\">\n",
       "  <thead>\n",
       "    <tr style=\"text-align: right;\">\n",
       "      <th></th>\n",
       "      <th>tripduration</th>\n",
       "      <th>starttime</th>\n",
       "      <th>stoptime</th>\n",
       "      <th>start station id</th>\n",
       "      <th>start station name</th>\n",
       "      <th>start station latitude</th>\n",
       "      <th>start station longitude</th>\n",
       "      <th>end station id</th>\n",
       "      <th>end station name</th>\n",
       "      <th>end station latitude</th>\n",
       "      <th>end station longitude</th>\n",
       "      <th>bikeid</th>\n",
       "      <th>usertype</th>\n",
       "      <th>birth year</th>\n",
       "      <th>gender</th>\n",
       "    </tr>\n",
       "  </thead>\n",
       "  <tbody>\n",
       "    <tr>\n",
       "      <th>0</th>\n",
       "      <td>704</td>\n",
       "      <td>7/1/2016 00:00:02</td>\n",
       "      <td>7/1/2016 00:11:47</td>\n",
       "      <td>459</td>\n",
       "      <td>W 20 St &amp; 11 Ave</td>\n",
       "      <td>40.746745</td>\n",
       "      <td>-74.007756</td>\n",
       "      <td>347</td>\n",
       "      <td>Greenwich St &amp; W Houston St</td>\n",
       "      <td>40.728846</td>\n",
       "      <td>-74.008591</td>\n",
       "      <td>17431</td>\n",
       "      <td>Customer</td>\n",
       "      <td>NaN</td>\n",
       "      <td>0</td>\n",
       "    </tr>\n",
       "    <tr>\n",
       "      <th>1</th>\n",
       "      <td>492</td>\n",
       "      <td>7/1/2016 00:00:18</td>\n",
       "      <td>7/1/2016 00:08:31</td>\n",
       "      <td>293</td>\n",
       "      <td>Lafayette St &amp; E 8 St</td>\n",
       "      <td>40.730287</td>\n",
       "      <td>-73.990765</td>\n",
       "      <td>466</td>\n",
       "      <td>W 25 St &amp; 6 Ave</td>\n",
       "      <td>40.743954</td>\n",
       "      <td>-73.991449</td>\n",
       "      <td>24159</td>\n",
       "      <td>Subscriber</td>\n",
       "      <td>1984.0</td>\n",
       "      <td>1</td>\n",
       "    </tr>\n",
       "    <tr>\n",
       "      <th>2</th>\n",
       "      <td>191</td>\n",
       "      <td>7/1/2016 00:00:19</td>\n",
       "      <td>7/1/2016 00:03:31</td>\n",
       "      <td>3090</td>\n",
       "      <td>N 8 St &amp; Driggs Ave</td>\n",
       "      <td>40.717746</td>\n",
       "      <td>-73.956001</td>\n",
       "      <td>3107</td>\n",
       "      <td>Bedford Ave &amp; Nassau Ave</td>\n",
       "      <td>40.723117</td>\n",
       "      <td>-73.952123</td>\n",
       "      <td>16345</td>\n",
       "      <td>Subscriber</td>\n",
       "      <td>1986.0</td>\n",
       "      <td>2</td>\n",
       "    </tr>\n",
       "  </tbody>\n",
       "</table>\n",
       "</div>"
      ],
      "text/plain": [
       "   tripduration          starttime           stoptime  start station id  \\\n",
       "0           704  7/1/2016 00:00:02  7/1/2016 00:11:47               459   \n",
       "1           492  7/1/2016 00:00:18  7/1/2016 00:08:31               293   \n",
       "2           191  7/1/2016 00:00:19  7/1/2016 00:03:31              3090   \n",
       "\n",
       "      start station name  start station latitude  start station longitude  \\\n",
       "0       W 20 St & 11 Ave               40.746745               -74.007756   \n",
       "1  Lafayette St & E 8 St               40.730287               -73.990765   \n",
       "2    N 8 St & Driggs Ave               40.717746               -73.956001   \n",
       "\n",
       "   end station id             end station name  end station latitude  \\\n",
       "0             347  Greenwich St & W Houston St             40.728846   \n",
       "1             466              W 25 St & 6 Ave             40.743954   \n",
       "2            3107     Bedford Ave & Nassau Ave             40.723117   \n",
       "\n",
       "   end station longitude  bikeid    usertype  birth year  gender  \n",
       "0             -74.008591   17431    Customer         NaN       0  \n",
       "1             -73.991449   24159  Subscriber      1984.0       1  \n",
       "2             -73.952123   16345  Subscriber      1986.0       2  "
      ]
     },
     "execution_count": 3,
     "metadata": {},
     "output_type": "execute_result"
    }
   ],
   "source": [
    "df.head(3)"
   ]
  },
  {
   "cell_type": "code",
   "execution_count": 4,
   "metadata": {},
   "outputs": [
    {
     "data": {
      "text/html": [
       "<div>\n",
       "<style scoped>\n",
       "    .dataframe tbody tr th:only-of-type {\n",
       "        vertical-align: middle;\n",
       "    }\n",
       "\n",
       "    .dataframe tbody tr th {\n",
       "        vertical-align: top;\n",
       "    }\n",
       "\n",
       "    .dataframe thead th {\n",
       "        text-align: right;\n",
       "    }\n",
       "</style>\n",
       "<table border=\"1\" class=\"dataframe\">\n",
       "  <thead>\n",
       "    <tr style=\"text-align: right;\">\n",
       "      <th></th>\n",
       "      <th>tripduration</th>\n",
       "      <th>starttime</th>\n",
       "      <th>stoptime</th>\n",
       "      <th>start station id</th>\n",
       "      <th>start station name</th>\n",
       "      <th>start station latitude</th>\n",
       "      <th>start station longitude</th>\n",
       "      <th>end station id</th>\n",
       "      <th>end station name</th>\n",
       "      <th>end station latitude</th>\n",
       "      <th>end station longitude</th>\n",
       "      <th>bikeid</th>\n",
       "      <th>usertype</th>\n",
       "      <th>birth year</th>\n",
       "      <th>gender</th>\n",
       "    </tr>\n",
       "  </thead>\n",
       "  <tbody>\n",
       "    <tr>\n",
       "      <th>28</th>\n",
       "      <td>209</td>\n",
       "      <td>7/1/2016 00:02:31</td>\n",
       "      <td>7/1/2016 00:06:01</td>\n",
       "      <td>410</td>\n",
       "      <td>Suffolk St &amp; Stanton St</td>\n",
       "      <td>40.720664</td>\n",
       "      <td>-73.985180</td>\n",
       "      <td>473</td>\n",
       "      <td>Rivington St &amp; Chrystie St</td>\n",
       "      <td>40.721101</td>\n",
       "      <td>-73.991925</td>\n",
       "      <td>25845</td>\n",
       "      <td>Subscriber</td>\n",
       "      <td>1984.0</td>\n",
       "      <td>1</td>\n",
       "    </tr>\n",
       "    <tr>\n",
       "      <th>29</th>\n",
       "      <td>492</td>\n",
       "      <td>7/1/2016 00:02:32</td>\n",
       "      <td>7/1/2016 00:10:44</td>\n",
       "      <td>481</td>\n",
       "      <td>S 3 St &amp; Bedford Ave</td>\n",
       "      <td>40.712605</td>\n",
       "      <td>-73.962644</td>\n",
       "      <td>3109</td>\n",
       "      <td>Banker St &amp; Meserole Ave</td>\n",
       "      <td>40.726060</td>\n",
       "      <td>-73.956210</td>\n",
       "      <td>23648</td>\n",
       "      <td>Subscriber</td>\n",
       "      <td>1991.0</td>\n",
       "      <td>2</td>\n",
       "    </tr>\n",
       "  </tbody>\n",
       "</table>\n",
       "</div>"
      ],
      "text/plain": [
       "    tripduration          starttime           stoptime  start station id  \\\n",
       "28           209  7/1/2016 00:02:31  7/1/2016 00:06:01               410   \n",
       "29           492  7/1/2016 00:02:32  7/1/2016 00:10:44               481   \n",
       "\n",
       "         start station name  start station latitude  start station longitude  \\\n",
       "28  Suffolk St & Stanton St               40.720664               -73.985180   \n",
       "29     S 3 St & Bedford Ave               40.712605               -73.962644   \n",
       "\n",
       "    end station id            end station name  end station latitude  \\\n",
       "28             473  Rivington St & Chrystie St             40.721101   \n",
       "29            3109    Banker St & Meserole Ave             40.726060   \n",
       "\n",
       "    end station longitude  bikeid    usertype  birth year  gender  \n",
       "28             -73.991925   25845  Subscriber      1984.0       1  \n",
       "29             -73.956210   23648  Subscriber      1991.0       2  "
      ]
     },
     "execution_count": 4,
     "metadata": {},
     "output_type": "execute_result"
    }
   ],
   "source": [
    "df.tail(2)"
   ]
  },
  {
   "cell_type": "code",
   "execution_count": 5,
   "metadata": {},
   "outputs": [
    {
     "data": {
      "text/plain": [
       "(30, 15)"
      ]
     },
     "execution_count": 5,
     "metadata": {},
     "output_type": "execute_result"
    }
   ],
   "source": [
    "df.shape"
   ]
  },
  {
   "cell_type": "code",
   "execution_count": 6,
   "metadata": {},
   "outputs": [
    {
     "data": {
      "text/plain": [
       "Index(['tripduration', 'starttime', 'stoptime', 'start station id',\n",
       "       'start station name', 'start station latitude',\n",
       "       'start station longitude', 'end station id', 'end station name',\n",
       "       'end station latitude', 'end station longitude', 'bikeid', 'usertype',\n",
       "       'birth year', 'gender'],\n",
       "      dtype='object')"
      ]
     },
     "execution_count": 6,
     "metadata": {},
     "output_type": "execute_result"
    }
   ],
   "source": [
    "df.columns"
   ]
  },
  {
   "cell_type": "code",
   "execution_count": 7,
   "metadata": {},
   "outputs": [
    {
     "data": {
      "text/plain": [
       "tripduration                 int64\n",
       "starttime                   object\n",
       "stoptime                    object\n",
       "start station id             int64\n",
       "start station name          object\n",
       "start station latitude     float64\n",
       "start station longitude    float64\n",
       "end station id               int64\n",
       "end station name            object\n",
       "end station latitude       float64\n",
       "end station longitude      float64\n",
       "bikeid                       int64\n",
       "usertype                    object\n",
       "birth year                 float64\n",
       "gender                       int64\n",
       "dtype: object"
      ]
     },
     "execution_count": 7,
     "metadata": {},
     "output_type": "execute_result"
    }
   ],
   "source": [
    "df.dtypes"
   ]
  },
  {
   "cell_type": "markdown",
   "metadata": {},
   "source": [
    "Также можно вывести необходимые столбцы"
   ]
  },
  {
   "cell_type": "code",
   "execution_count": 8,
   "metadata": {
    "scrolled": true
   },
   "outputs": [
    {
     "data": {
      "text/html": [
       "<div>\n",
       "<style scoped>\n",
       "    .dataframe tbody tr th:only-of-type {\n",
       "        vertical-align: middle;\n",
       "    }\n",
       "\n",
       "    .dataframe tbody tr th {\n",
       "        vertical-align: top;\n",
       "    }\n",
       "\n",
       "    .dataframe thead th {\n",
       "        text-align: right;\n",
       "    }\n",
       "</style>\n",
       "<table border=\"1\" class=\"dataframe\">\n",
       "  <thead>\n",
       "    <tr style=\"text-align: right;\">\n",
       "      <th></th>\n",
       "      <th>starttime</th>\n",
       "      <th>start station name</th>\n",
       "    </tr>\n",
       "  </thead>\n",
       "  <tbody>\n",
       "    <tr>\n",
       "      <th>0</th>\n",
       "      <td>7/1/2016 00:00:02</td>\n",
       "      <td>W 20 St &amp; 11 Ave</td>\n",
       "    </tr>\n",
       "    <tr>\n",
       "      <th>1</th>\n",
       "      <td>7/1/2016 00:00:18</td>\n",
       "      <td>Lafayette St &amp; E 8 St</td>\n",
       "    </tr>\n",
       "    <tr>\n",
       "      <th>2</th>\n",
       "      <td>7/1/2016 00:00:19</td>\n",
       "      <td>N 8 St &amp; Driggs Ave</td>\n",
       "    </tr>\n",
       "    <tr>\n",
       "      <th>3</th>\n",
       "      <td>7/1/2016 00:00:24</td>\n",
       "      <td>W 20 St &amp; 11 Ave</td>\n",
       "    </tr>\n",
       "    <tr>\n",
       "      <th>4</th>\n",
       "      <td>7/1/2016 00:00:31</td>\n",
       "      <td>Greenwich Ave &amp; 8 Ave</td>\n",
       "    </tr>\n",
       "  </tbody>\n",
       "</table>\n",
       "</div>"
      ],
      "text/plain": [
       "           starttime     start station name\n",
       "0  7/1/2016 00:00:02       W 20 St & 11 Ave\n",
       "1  7/1/2016 00:00:18  Lafayette St & E 8 St\n",
       "2  7/1/2016 00:00:19    N 8 St & Driggs Ave\n",
       "3  7/1/2016 00:00:24       W 20 St & 11 Ave\n",
       "4  7/1/2016 00:00:31  Greenwich Ave & 8 Ave"
      ]
     },
     "execution_count": 8,
     "metadata": {},
     "output_type": "execute_result"
    }
   ],
   "source": [
    "df[['starttime', 'start station name']].head()"
   ]
  },
  {
   "cell_type": "markdown",
   "metadata": {},
   "source": [
    "### loc/iloc - обращение к элементам датафрейма"
   ]
  },
  {
   "cell_type": "code",
   "execution_count": 9,
   "metadata": {
    "scrolled": true
   },
   "outputs": [
    {
     "data": {
      "text/plain": [
       "tripduration                                    492\n",
       "starttime                         7/1/2016 00:02:32\n",
       "stoptime                          7/1/2016 00:10:44\n",
       "start station id                                481\n",
       "start station name             S 3 St & Bedford Ave\n",
       "start station latitude                      40.7126\n",
       "start station longitude                    -73.9626\n",
       "end station id                                 3109\n",
       "end station name           Banker St & Meserole Ave\n",
       "end station latitude                        40.7261\n",
       "end station longitude                      -73.9562\n",
       "bikeid                                        23648\n",
       "usertype                                 Subscriber\n",
       "birth year                                     1991\n",
       "gender                                            2\n",
       "Name: 29, dtype: object"
      ]
     },
     "execution_count": 9,
     "metadata": {},
     "output_type": "execute_result"
    }
   ],
   "source": [
    "df.iloc[-1]"
   ]
  },
  {
   "cell_type": "code",
   "execution_count": 10,
   "metadata": {
    "scrolled": true
   },
   "outputs": [
    {
     "data": {
      "text/plain": [
       "'S 3 St & Bedford Ave'"
      ]
     },
     "execution_count": 10,
     "metadata": {},
     "output_type": "execute_result"
    }
   ],
   "source": [
    "df.iloc[-1, 4]"
   ]
  },
  {
   "cell_type": "markdown",
   "metadata": {},
   "source": [
    "Есть еще метод loc, который позволяет вытаксивать значения не по индексу, а по лейблу"
   ]
  },
  {
   "cell_type": "code",
   "execution_count": 11,
   "metadata": {
    "scrolled": true
   },
   "outputs": [
    {
     "data": {
      "text/plain": [
       "tripduration    492\n",
       "Name: 1, dtype: object"
      ]
     },
     "execution_count": 11,
     "metadata": {},
     "output_type": "execute_result"
    }
   ],
   "source": [
    "df.loc[1,['tripduration']]"
   ]
  },
  {
   "cell_type": "code",
   "execution_count": 12,
   "metadata": {},
   "outputs": [
    {
     "data": {
      "text/html": [
       "<div>\n",
       "<style scoped>\n",
       "    .dataframe tbody tr th:only-of-type {\n",
       "        vertical-align: middle;\n",
       "    }\n",
       "\n",
       "    .dataframe tbody tr th {\n",
       "        vertical-align: top;\n",
       "    }\n",
       "\n",
       "    .dataframe thead th {\n",
       "        text-align: right;\n",
       "    }\n",
       "</style>\n",
       "<table border=\"1\" class=\"dataframe\">\n",
       "  <thead>\n",
       "    <tr style=\"text-align: right;\">\n",
       "      <th></th>\n",
       "      <th>tripduration</th>\n",
       "      <th>starttime</th>\n",
       "      <th>stoptime</th>\n",
       "      <th>start station id</th>\n",
       "    </tr>\n",
       "  </thead>\n",
       "  <tbody>\n",
       "    <tr>\n",
       "      <th>0</th>\n",
       "      <td>704</td>\n",
       "      <td>7/1/2016 00:00:02</td>\n",
       "      <td>7/1/2016 00:11:47</td>\n",
       "      <td>459</td>\n",
       "    </tr>\n",
       "    <tr>\n",
       "      <th>1</th>\n",
       "      <td>492</td>\n",
       "      <td>7/1/2016 00:00:18</td>\n",
       "      <td>7/1/2016 00:08:31</td>\n",
       "      <td>293</td>\n",
       "    </tr>\n",
       "    <tr>\n",
       "      <th>2</th>\n",
       "      <td>191</td>\n",
       "      <td>7/1/2016 00:00:19</td>\n",
       "      <td>7/1/2016 00:03:31</td>\n",
       "      <td>3090</td>\n",
       "    </tr>\n",
       "    <tr>\n",
       "      <th>3</th>\n",
       "      <td>687</td>\n",
       "      <td>7/1/2016 00:00:24</td>\n",
       "      <td>7/1/2016 00:11:52</td>\n",
       "      <td>459</td>\n",
       "    </tr>\n",
       "    <tr>\n",
       "      <th>4</th>\n",
       "      <td>609</td>\n",
       "      <td>7/1/2016 00:00:31</td>\n",
       "      <td>7/1/2016 00:10:40</td>\n",
       "      <td>284</td>\n",
       "    </tr>\n",
       "    <tr>\n",
       "      <th>5</th>\n",
       "      <td>672</td>\n",
       "      <td>7/1/2016 00:00:45</td>\n",
       "      <td>7/1/2016 00:11:57</td>\n",
       "      <td>459</td>\n",
       "    </tr>\n",
       "  </tbody>\n",
       "</table>\n",
       "</div>"
      ],
      "text/plain": [
       "   tripduration          starttime           stoptime  start station id\n",
       "0           704  7/1/2016 00:00:02  7/1/2016 00:11:47               459\n",
       "1           492  7/1/2016 00:00:18  7/1/2016 00:08:31               293\n",
       "2           191  7/1/2016 00:00:19  7/1/2016 00:03:31              3090\n",
       "3           687  7/1/2016 00:00:24  7/1/2016 00:11:52               459\n",
       "4           609  7/1/2016 00:00:31  7/1/2016 00:10:40               284\n",
       "5           672  7/1/2016 00:00:45  7/1/2016 00:11:57               459"
      ]
     },
     "execution_count": 12,
     "metadata": {},
     "output_type": "execute_result"
    }
   ],
   "source": [
    "df.iloc[0:6,0:4]"
   ]
  },
  {
   "cell_type": "code",
   "execution_count": 13,
   "metadata": {},
   "outputs": [
    {
     "data": {
      "text/html": [
       "<div>\n",
       "<style scoped>\n",
       "    .dataframe tbody tr th:only-of-type {\n",
       "        vertical-align: middle;\n",
       "    }\n",
       "\n",
       "    .dataframe tbody tr th {\n",
       "        vertical-align: top;\n",
       "    }\n",
       "\n",
       "    .dataframe thead th {\n",
       "        text-align: right;\n",
       "    }\n",
       "</style>\n",
       "<table border=\"1\" class=\"dataframe\">\n",
       "  <thead>\n",
       "    <tr style=\"text-align: right;\">\n",
       "      <th></th>\n",
       "      <th>tripduration</th>\n",
       "      <th>starttime</th>\n",
       "      <th>stoptime</th>\n",
       "      <th>start station id</th>\n",
       "      <th>start station name</th>\n",
       "    </tr>\n",
       "  </thead>\n",
       "  <tbody>\n",
       "    <tr>\n",
       "      <th>0</th>\n",
       "      <td>704</td>\n",
       "      <td>7/1/2016 00:00:02</td>\n",
       "      <td>7/1/2016 00:11:47</td>\n",
       "      <td>459</td>\n",
       "      <td>W 20 St &amp; 11 Ave</td>\n",
       "    </tr>\n",
       "    <tr>\n",
       "      <th>1</th>\n",
       "      <td>492</td>\n",
       "      <td>7/1/2016 00:00:18</td>\n",
       "      <td>7/1/2016 00:08:31</td>\n",
       "      <td>293</td>\n",
       "      <td>Lafayette St &amp; E 8 St</td>\n",
       "    </tr>\n",
       "    <tr>\n",
       "      <th>2</th>\n",
       "      <td>191</td>\n",
       "      <td>7/1/2016 00:00:19</td>\n",
       "      <td>7/1/2016 00:03:31</td>\n",
       "      <td>3090</td>\n",
       "      <td>N 8 St &amp; Driggs Ave</td>\n",
       "    </tr>\n",
       "    <tr>\n",
       "      <th>3</th>\n",
       "      <td>687</td>\n",
       "      <td>7/1/2016 00:00:24</td>\n",
       "      <td>7/1/2016 00:11:52</td>\n",
       "      <td>459</td>\n",
       "      <td>W 20 St &amp; 11 Ave</td>\n",
       "    </tr>\n",
       "    <tr>\n",
       "      <th>4</th>\n",
       "      <td>609</td>\n",
       "      <td>7/1/2016 00:00:31</td>\n",
       "      <td>7/1/2016 00:10:40</td>\n",
       "      <td>284</td>\n",
       "      <td>Greenwich Ave &amp; 8 Ave</td>\n",
       "    </tr>\n",
       "    <tr>\n",
       "      <th>5</th>\n",
       "      <td>672</td>\n",
       "      <td>7/1/2016 00:00:45</td>\n",
       "      <td>7/1/2016 00:11:57</td>\n",
       "      <td>459</td>\n",
       "      <td>W 20 St &amp; 11 Ave</td>\n",
       "    </tr>\n",
       "    <tr>\n",
       "      <th>6</th>\n",
       "      <td>466</td>\n",
       "      <td>7/1/2016 00:00:49</td>\n",
       "      <td>7/1/2016 00:08:35</td>\n",
       "      <td>128</td>\n",
       "      <td>MacDougal St &amp; Prince St</td>\n",
       "    </tr>\n",
       "  </tbody>\n",
       "</table>\n",
       "</div>"
      ],
      "text/plain": [
       "   tripduration          starttime           stoptime  start station id  \\\n",
       "0           704  7/1/2016 00:00:02  7/1/2016 00:11:47               459   \n",
       "1           492  7/1/2016 00:00:18  7/1/2016 00:08:31               293   \n",
       "2           191  7/1/2016 00:00:19  7/1/2016 00:03:31              3090   \n",
       "3           687  7/1/2016 00:00:24  7/1/2016 00:11:52               459   \n",
       "4           609  7/1/2016 00:00:31  7/1/2016 00:10:40               284   \n",
       "5           672  7/1/2016 00:00:45  7/1/2016 00:11:57               459   \n",
       "6           466  7/1/2016 00:00:49  7/1/2016 00:08:35               128   \n",
       "\n",
       "         start station name  \n",
       "0          W 20 St & 11 Ave  \n",
       "1     Lafayette St & E 8 St  \n",
       "2       N 8 St & Driggs Ave  \n",
       "3          W 20 St & 11 Ave  \n",
       "4     Greenwich Ave & 8 Ave  \n",
       "5          W 20 St & 11 Ave  \n",
       "6  MacDougal St & Prince St  "
      ]
     },
     "execution_count": 13,
     "metadata": {},
     "output_type": "execute_result"
    }
   ],
   "source": [
    "df.loc[0:6, 'tripduration':'start station name']"
   ]
  },
  {
   "cell_type": "markdown",
   "metadata": {},
   "source": [
    "### Фильтрация"
   ]
  },
  {
   "cell_type": "code",
   "execution_count": 14,
   "metadata": {},
   "outputs": [
    {
     "data": {
      "text/plain": [
       "(6, 15)"
      ]
     },
     "execution_count": 14,
     "metadata": {},
     "output_type": "execute_result"
    }
   ],
   "source": [
    "df[df['tripduration'] < 400].shape"
   ]
  },
  {
   "cell_type": "markdown",
   "metadata": {},
   "source": [
    "можно создавать несколько условий на фильтр"
   ]
  },
  {
   "cell_type": "code",
   "execution_count": 15,
   "metadata": {
    "scrolled": false
   },
   "outputs": [
    {
     "data": {
      "text/plain": [
       "(18, 15)"
      ]
     },
     "execution_count": 15,
     "metadata": {},
     "output_type": "execute_result"
    }
   ],
   "source": [
    "df[(df['tripduration'] < 1000) & (df['usertype'] == 'Subscriber')].shape"
   ]
  },
  {
   "cell_type": "markdown",
   "metadata": {},
   "source": [
    "### Статистика по датафрейму"
   ]
  },
  {
   "cell_type": "code",
   "execution_count": 16,
   "metadata": {},
   "outputs": [
    {
     "data": {
      "text/html": [
       "<div>\n",
       "<style scoped>\n",
       "    .dataframe tbody tr th:only-of-type {\n",
       "        vertical-align: middle;\n",
       "    }\n",
       "\n",
       "    .dataframe tbody tr th {\n",
       "        vertical-align: top;\n",
       "    }\n",
       "\n",
       "    .dataframe thead th {\n",
       "        text-align: right;\n",
       "    }\n",
       "</style>\n",
       "<table border=\"1\" class=\"dataframe\">\n",
       "  <thead>\n",
       "    <tr style=\"text-align: right;\">\n",
       "      <th></th>\n",
       "      <th>tripduration</th>\n",
       "      <th>start station id</th>\n",
       "      <th>start station latitude</th>\n",
       "      <th>start station longitude</th>\n",
       "      <th>end station id</th>\n",
       "      <th>end station latitude</th>\n",
       "      <th>end station longitude</th>\n",
       "      <th>bikeid</th>\n",
       "      <th>birth year</th>\n",
       "      <th>gender</th>\n",
       "    </tr>\n",
       "  </thead>\n",
       "  <tbody>\n",
       "    <tr>\n",
       "      <th>count</th>\n",
       "      <td>30.000000</td>\n",
       "      <td>30.000000</td>\n",
       "      <td>30.000000</td>\n",
       "      <td>30.000000</td>\n",
       "      <td>30.000000</td>\n",
       "      <td>30.000000</td>\n",
       "      <td>30.000000</td>\n",
       "      <td>30.000000</td>\n",
       "      <td>25.000000</td>\n",
       "      <td>30.000000</td>\n",
       "    </tr>\n",
       "    <tr>\n",
       "      <th>mean</th>\n",
       "      <td>797.466667</td>\n",
       "      <td>529.433333</td>\n",
       "      <td>40.731871</td>\n",
       "      <td>-73.992881</td>\n",
       "      <td>573.700000</td>\n",
       "      <td>40.733723</td>\n",
       "      <td>-73.989227</td>\n",
       "      <td>20263.033333</td>\n",
       "      <td>1984.120000</td>\n",
       "      <td>1.066667</td>\n",
       "    </tr>\n",
       "    <tr>\n",
       "      <th>std</th>\n",
       "      <td>558.310860</td>\n",
       "      <td>714.275021</td>\n",
       "      <td>0.018098</td>\n",
       "      <td>0.017158</td>\n",
       "      <td>697.392639</td>\n",
       "      <td>0.015794</td>\n",
       "      <td>0.014889</td>\n",
       "      <td>4047.818548</td>\n",
       "      <td>7.149126</td>\n",
       "      <td>0.639684</td>\n",
       "    </tr>\n",
       "    <tr>\n",
       "      <th>min</th>\n",
       "      <td>191.000000</td>\n",
       "      <td>127.000000</td>\n",
       "      <td>40.690893</td>\n",
       "      <td>-74.009447</td>\n",
       "      <td>174.000000</td>\n",
       "      <td>40.689888</td>\n",
       "      <td>-74.008591</td>\n",
       "      <td>14676.000000</td>\n",
       "      <td>1966.000000</td>\n",
       "      <td>0.000000</td>\n",
       "    </tr>\n",
       "    <tr>\n",
       "      <th>25%</th>\n",
       "      <td>464.500000</td>\n",
       "      <td>269.000000</td>\n",
       "      <td>40.723604</td>\n",
       "      <td>-74.006474</td>\n",
       "      <td>329.500000</td>\n",
       "      <td>40.724936</td>\n",
       "      <td>-74.001034</td>\n",
       "      <td>16399.750000</td>\n",
       "      <td>1981.000000</td>\n",
       "      <td>1.000000</td>\n",
       "    </tr>\n",
       "    <tr>\n",
       "      <th>50%</th>\n",
       "      <td>582.500000</td>\n",
       "      <td>359.500000</td>\n",
       "      <td>40.730380</td>\n",
       "      <td>-73.998004</td>\n",
       "      <td>437.000000</td>\n",
       "      <td>40.734048</td>\n",
       "      <td>-73.990506</td>\n",
       "      <td>19944.000000</td>\n",
       "      <td>1986.000000</td>\n",
       "      <td>1.000000</td>\n",
       "    </tr>\n",
       "    <tr>\n",
       "      <th>75%</th>\n",
       "      <td>1053.000000</td>\n",
       "      <td>459.000000</td>\n",
       "      <td>40.744569</td>\n",
       "      <td>-73.987734</td>\n",
       "      <td>499.250000</td>\n",
       "      <td>40.743291</td>\n",
       "      <td>-73.981754</td>\n",
       "      <td>24031.250000</td>\n",
       "      <td>1989.000000</td>\n",
       "      <td>1.000000</td>\n",
       "    </tr>\n",
       "    <tr>\n",
       "      <th>max</th>\n",
       "      <td>2229.000000</td>\n",
       "      <td>3150.000000</td>\n",
       "      <td>40.775369</td>\n",
       "      <td>-73.948034</td>\n",
       "      <td>3109.000000</td>\n",
       "      <td>40.765849</td>\n",
       "      <td>-73.952123</td>\n",
       "      <td>25925.000000</td>\n",
       "      <td>1994.000000</td>\n",
       "      <td>2.000000</td>\n",
       "    </tr>\n",
       "  </tbody>\n",
       "</table>\n",
       "</div>"
      ],
      "text/plain": [
       "       tripduration  start station id  start station latitude  \\\n",
       "count     30.000000         30.000000               30.000000   \n",
       "mean     797.466667        529.433333               40.731871   \n",
       "std      558.310860        714.275021                0.018098   \n",
       "min      191.000000        127.000000               40.690893   \n",
       "25%      464.500000        269.000000               40.723604   \n",
       "50%      582.500000        359.500000               40.730380   \n",
       "75%     1053.000000        459.000000               40.744569   \n",
       "max     2229.000000       3150.000000               40.775369   \n",
       "\n",
       "       start station longitude  end station id  end station latitude  \\\n",
       "count                30.000000       30.000000             30.000000   \n",
       "mean                -73.992881      573.700000             40.733723   \n",
       "std                   0.017158      697.392639              0.015794   \n",
       "min                 -74.009447      174.000000             40.689888   \n",
       "25%                 -74.006474      329.500000             40.724936   \n",
       "50%                 -73.998004      437.000000             40.734048   \n",
       "75%                 -73.987734      499.250000             40.743291   \n",
       "max                 -73.948034     3109.000000             40.765849   \n",
       "\n",
       "       end station longitude        bikeid   birth year     gender  \n",
       "count              30.000000     30.000000    25.000000  30.000000  \n",
       "mean              -73.989227  20263.033333  1984.120000   1.066667  \n",
       "std                 0.014889   4047.818548     7.149126   0.639684  \n",
       "min               -74.008591  14676.000000  1966.000000   0.000000  \n",
       "25%               -74.001034  16399.750000  1981.000000   1.000000  \n",
       "50%               -73.990506  19944.000000  1986.000000   1.000000  \n",
       "75%               -73.981754  24031.250000  1989.000000   1.000000  \n",
       "max               -73.952123  25925.000000  1994.000000   2.000000  "
      ]
     },
     "execution_count": 16,
     "metadata": {},
     "output_type": "execute_result"
    }
   ],
   "source": [
    "df.describe()"
   ]
  },
  {
   "cell_type": "code",
   "execution_count": 17,
   "metadata": {},
   "outputs": [
    {
     "data": {
      "text/html": [
       "<div>\n",
       "<style scoped>\n",
       "    .dataframe tbody tr th:only-of-type {\n",
       "        vertical-align: middle;\n",
       "    }\n",
       "\n",
       "    .dataframe tbody tr th {\n",
       "        vertical-align: top;\n",
       "    }\n",
       "\n",
       "    .dataframe thead th {\n",
       "        text-align: right;\n",
       "    }\n",
       "</style>\n",
       "<table border=\"1\" class=\"dataframe\">\n",
       "  <thead>\n",
       "    <tr style=\"text-align: right;\">\n",
       "      <th></th>\n",
       "      <th>starttime</th>\n",
       "      <th>stoptime</th>\n",
       "      <th>start station name</th>\n",
       "      <th>end station name</th>\n",
       "      <th>usertype</th>\n",
       "    </tr>\n",
       "  </thead>\n",
       "  <tbody>\n",
       "    <tr>\n",
       "      <th>count</th>\n",
       "      <td>30</td>\n",
       "      <td>30</td>\n",
       "      <td>30</td>\n",
       "      <td>30</td>\n",
       "      <td>30</td>\n",
       "    </tr>\n",
       "    <tr>\n",
       "      <th>unique</th>\n",
       "      <td>27</td>\n",
       "      <td>30</td>\n",
       "      <td>23</td>\n",
       "      <td>26</td>\n",
       "      <td>2</td>\n",
       "    </tr>\n",
       "    <tr>\n",
       "      <th>top</th>\n",
       "      <td>7/1/2016 00:00:51</td>\n",
       "      <td>7/1/2016 00:39:14</td>\n",
       "      <td>W 20 St &amp; 11 Ave</td>\n",
       "      <td>Greenwich St &amp; W Houston St</td>\n",
       "      <td>Subscriber</td>\n",
       "    </tr>\n",
       "    <tr>\n",
       "      <th>freq</th>\n",
       "      <td>2</td>\n",
       "      <td>1</td>\n",
       "      <td>3</td>\n",
       "      <td>3</td>\n",
       "      <td>25</td>\n",
       "    </tr>\n",
       "  </tbody>\n",
       "</table>\n",
       "</div>"
      ],
      "text/plain": [
       "                starttime           stoptime start station name  \\\n",
       "count                  30                 30                 30   \n",
       "unique                 27                 30                 23   \n",
       "top     7/1/2016 00:00:51  7/1/2016 00:39:14   W 20 St & 11 Ave   \n",
       "freq                    2                  1                  3   \n",
       "\n",
       "                   end station name    usertype  \n",
       "count                            30          30  \n",
       "unique                           26           2  \n",
       "top     Greenwich St & W Houston St  Subscriber  \n",
       "freq                              3          25  "
      ]
     },
     "execution_count": 17,
     "metadata": {},
     "output_type": "execute_result"
    }
   ],
   "source": [
    "df.describe(include=[np.object])"
   ]
  },
  {
   "cell_type": "markdown",
   "metadata": {},
   "source": [
    "Статистика по значениям внутри столбца"
   ]
  },
  {
   "cell_type": "code",
   "execution_count": 19,
   "metadata": {},
   "outputs": [
    {
     "data": {
      "text/plain": [
       "Subscriber    25\n",
       "Customer       5\n",
       "Name: usertype, dtype: int64"
      ]
     },
     "execution_count": 19,
     "metadata": {},
     "output_type": "execute_result"
    }
   ],
   "source": [
    "df['usertype'].value_counts()"
   ]
  },
  {
   "cell_type": "code",
   "execution_count": 20,
   "metadata": {
    "scrolled": true
   },
   "outputs": [
    {
     "data": {
      "text/plain": [
       "array([0, 1, 2])"
      ]
     },
     "execution_count": 20,
     "metadata": {},
     "output_type": "execute_result"
    }
   ],
   "source": [
    "df['gender'].unique()"
   ]
  },
  {
   "cell_type": "markdown",
   "metadata": {},
   "source": [
    "Можно найти корреляцию между всеми столбцами датасета(если они численные)"
   ]
  },
  {
   "cell_type": "code",
   "execution_count": 21,
   "metadata": {},
   "outputs": [
    {
     "data": {
      "text/html": [
       "<div>\n",
       "<style scoped>\n",
       "    .dataframe tbody tr th:only-of-type {\n",
       "        vertical-align: middle;\n",
       "    }\n",
       "\n",
       "    .dataframe tbody tr th {\n",
       "        vertical-align: top;\n",
       "    }\n",
       "\n",
       "    .dataframe thead th {\n",
       "        text-align: right;\n",
       "    }\n",
       "</style>\n",
       "<table border=\"1\" class=\"dataframe\">\n",
       "  <thead>\n",
       "    <tr style=\"text-align: right;\">\n",
       "      <th></th>\n",
       "      <th>tripduration</th>\n",
       "      <th>start station id</th>\n",
       "      <th>start station latitude</th>\n",
       "      <th>start station longitude</th>\n",
       "      <th>end station id</th>\n",
       "      <th>end station latitude</th>\n",
       "      <th>end station longitude</th>\n",
       "      <th>bikeid</th>\n",
       "      <th>birth year</th>\n",
       "      <th>gender</th>\n",
       "    </tr>\n",
       "  </thead>\n",
       "  <tbody>\n",
       "    <tr>\n",
       "      <th>tripduration</th>\n",
       "      <td>1.000000</td>\n",
       "      <td>0.005958</td>\n",
       "      <td>0.279717</td>\n",
       "      <td>-0.155065</td>\n",
       "      <td>-0.208088</td>\n",
       "      <td>0.443372</td>\n",
       "      <td>-0.015035</td>\n",
       "      <td>-0.083743</td>\n",
       "      <td>0.220732</td>\n",
       "      <td>-0.228435</td>\n",
       "    </tr>\n",
       "    <tr>\n",
       "      <th>start station id</th>\n",
       "      <td>0.005958</td>\n",
       "      <td>1.000000</td>\n",
       "      <td>0.289613</td>\n",
       "      <td>0.678618</td>\n",
       "      <td>0.492051</td>\n",
       "      <td>-0.049569</td>\n",
       "      <td>0.416501</td>\n",
       "      <td>-0.000742</td>\n",
       "      <td>0.201254</td>\n",
       "      <td>0.174797</td>\n",
       "    </tr>\n",
       "    <tr>\n",
       "      <th>start station latitude</th>\n",
       "      <td>0.279717</td>\n",
       "      <td>0.289613</td>\n",
       "      <td>1.000000</td>\n",
       "      <td>-0.020152</td>\n",
       "      <td>-0.220959</td>\n",
       "      <td>0.529299</td>\n",
       "      <td>-0.228736</td>\n",
       "      <td>0.056788</td>\n",
       "      <td>0.369665</td>\n",
       "      <td>-0.214625</td>\n",
       "    </tr>\n",
       "    <tr>\n",
       "      <th>start station longitude</th>\n",
       "      <td>-0.155065</td>\n",
       "      <td>0.678618</td>\n",
       "      <td>-0.020152</td>\n",
       "      <td>1.000000</td>\n",
       "      <td>0.559629</td>\n",
       "      <td>-0.161206</td>\n",
       "      <td>0.728681</td>\n",
       "      <td>0.312968</td>\n",
       "      <td>0.119667</td>\n",
       "      <td>0.332913</td>\n",
       "    </tr>\n",
       "    <tr>\n",
       "      <th>end station id</th>\n",
       "      <td>-0.208088</td>\n",
       "      <td>0.492051</td>\n",
       "      <td>-0.220959</td>\n",
       "      <td>0.559629</td>\n",
       "      <td>1.000000</td>\n",
       "      <td>-0.110345</td>\n",
       "      <td>0.693786</td>\n",
       "      <td>0.032875</td>\n",
       "      <td>0.154493</td>\n",
       "      <td>0.424481</td>\n",
       "    </tr>\n",
       "    <tr>\n",
       "      <th>end station latitude</th>\n",
       "      <td>0.443372</td>\n",
       "      <td>-0.049569</td>\n",
       "      <td>0.529299</td>\n",
       "      <td>-0.161206</td>\n",
       "      <td>-0.110345</td>\n",
       "      <td>1.000000</td>\n",
       "      <td>-0.080409</td>\n",
       "      <td>0.118937</td>\n",
       "      <td>0.183303</td>\n",
       "      <td>-0.288049</td>\n",
       "    </tr>\n",
       "    <tr>\n",
       "      <th>end station longitude</th>\n",
       "      <td>-0.015035</td>\n",
       "      <td>0.416501</td>\n",
       "      <td>-0.228736</td>\n",
       "      <td>0.728681</td>\n",
       "      <td>0.693786</td>\n",
       "      <td>-0.080409</td>\n",
       "      <td>1.000000</td>\n",
       "      <td>0.175795</td>\n",
       "      <td>-0.026347</td>\n",
       "      <td>0.518770</td>\n",
       "    </tr>\n",
       "    <tr>\n",
       "      <th>bikeid</th>\n",
       "      <td>-0.083743</td>\n",
       "      <td>-0.000742</td>\n",
       "      <td>0.056788</td>\n",
       "      <td>0.312968</td>\n",
       "      <td>0.032875</td>\n",
       "      <td>0.118937</td>\n",
       "      <td>0.175795</td>\n",
       "      <td>1.000000</td>\n",
       "      <td>-0.037950</td>\n",
       "      <td>-0.190518</td>\n",
       "    </tr>\n",
       "    <tr>\n",
       "      <th>birth year</th>\n",
       "      <td>0.220732</td>\n",
       "      <td>0.201254</td>\n",
       "      <td>0.369665</td>\n",
       "      <td>0.119667</td>\n",
       "      <td>0.154493</td>\n",
       "      <td>0.183303</td>\n",
       "      <td>-0.026347</td>\n",
       "      <td>-0.037950</td>\n",
       "      <td>1.000000</td>\n",
       "      <td>0.383581</td>\n",
       "    </tr>\n",
       "    <tr>\n",
       "      <th>gender</th>\n",
       "      <td>-0.228435</td>\n",
       "      <td>0.174797</td>\n",
       "      <td>-0.214625</td>\n",
       "      <td>0.332913</td>\n",
       "      <td>0.424481</td>\n",
       "      <td>-0.288049</td>\n",
       "      <td>0.518770</td>\n",
       "      <td>-0.190518</td>\n",
       "      <td>0.383581</td>\n",
       "      <td>1.000000</td>\n",
       "    </tr>\n",
       "  </tbody>\n",
       "</table>\n",
       "</div>"
      ],
      "text/plain": [
       "                         tripduration  start station id  \\\n",
       "tripduration                 1.000000          0.005958   \n",
       "start station id             0.005958          1.000000   \n",
       "start station latitude       0.279717          0.289613   \n",
       "start station longitude     -0.155065          0.678618   \n",
       "end station id              -0.208088          0.492051   \n",
       "end station latitude         0.443372         -0.049569   \n",
       "end station longitude       -0.015035          0.416501   \n",
       "bikeid                      -0.083743         -0.000742   \n",
       "birth year                   0.220732          0.201254   \n",
       "gender                      -0.228435          0.174797   \n",
       "\n",
       "                         start station latitude  start station longitude  \\\n",
       "tripduration                           0.279717                -0.155065   \n",
       "start station id                       0.289613                 0.678618   \n",
       "start station latitude                 1.000000                -0.020152   \n",
       "start station longitude               -0.020152                 1.000000   \n",
       "end station id                        -0.220959                 0.559629   \n",
       "end station latitude                   0.529299                -0.161206   \n",
       "end station longitude                 -0.228736                 0.728681   \n",
       "bikeid                                 0.056788                 0.312968   \n",
       "birth year                             0.369665                 0.119667   \n",
       "gender                                -0.214625                 0.332913   \n",
       "\n",
       "                         end station id  end station latitude  \\\n",
       "tripduration                  -0.208088              0.443372   \n",
       "start station id               0.492051             -0.049569   \n",
       "start station latitude        -0.220959              0.529299   \n",
       "start station longitude        0.559629             -0.161206   \n",
       "end station id                 1.000000             -0.110345   \n",
       "end station latitude          -0.110345              1.000000   \n",
       "end station longitude          0.693786             -0.080409   \n",
       "bikeid                         0.032875              0.118937   \n",
       "birth year                     0.154493              0.183303   \n",
       "gender                         0.424481             -0.288049   \n",
       "\n",
       "                         end station longitude    bikeid  birth year    gender  \n",
       "tripduration                         -0.015035 -0.083743    0.220732 -0.228435  \n",
       "start station id                      0.416501 -0.000742    0.201254  0.174797  \n",
       "start station latitude               -0.228736  0.056788    0.369665 -0.214625  \n",
       "start station longitude               0.728681  0.312968    0.119667  0.332913  \n",
       "end station id                        0.693786  0.032875    0.154493  0.424481  \n",
       "end station latitude                 -0.080409  0.118937    0.183303 -0.288049  \n",
       "end station longitude                 1.000000  0.175795   -0.026347  0.518770  \n",
       "bikeid                                0.175795  1.000000   -0.037950 -0.190518  \n",
       "birth year                           -0.026347 -0.037950    1.000000  0.383581  \n",
       "gender                                0.518770 -0.190518    0.383581  1.000000  "
      ]
     },
     "execution_count": 21,
     "metadata": {},
     "output_type": "execute_result"
    }
   ],
   "source": [
    "df.corr()"
   ]
  },
  {
   "cell_type": "markdown",
   "metadata": {},
   "source": [
    "А также можно сделать семпл данных, предварительно задав какой процент от датасета пойдет в семпл"
   ]
  },
  {
   "cell_type": "code",
   "execution_count": 22,
   "metadata": {},
   "outputs": [
    {
     "data": {
      "text/html": [
       "<div>\n",
       "<style scoped>\n",
       "    .dataframe tbody tr th:only-of-type {\n",
       "        vertical-align: middle;\n",
       "    }\n",
       "\n",
       "    .dataframe tbody tr th {\n",
       "        vertical-align: top;\n",
       "    }\n",
       "\n",
       "    .dataframe thead th {\n",
       "        text-align: right;\n",
       "    }\n",
       "</style>\n",
       "<table border=\"1\" class=\"dataframe\">\n",
       "  <thead>\n",
       "    <tr style=\"text-align: right;\">\n",
       "      <th></th>\n",
       "      <th>tripduration</th>\n",
       "      <th>starttime</th>\n",
       "      <th>stoptime</th>\n",
       "      <th>start station id</th>\n",
       "      <th>start station name</th>\n",
       "      <th>start station latitude</th>\n",
       "      <th>start station longitude</th>\n",
       "      <th>end station id</th>\n",
       "      <th>end station name</th>\n",
       "      <th>end station latitude</th>\n",
       "      <th>end station longitude</th>\n",
       "      <th>bikeid</th>\n",
       "      <th>usertype</th>\n",
       "      <th>birth year</th>\n",
       "      <th>gender</th>\n",
       "    </tr>\n",
       "  </thead>\n",
       "  <tbody>\n",
       "    <tr>\n",
       "      <th>29</th>\n",
       "      <td>492</td>\n",
       "      <td>7/1/2016 00:02:32</td>\n",
       "      <td>7/1/2016 00:10:44</td>\n",
       "      <td>481</td>\n",
       "      <td>S 3 St &amp; Bedford Ave</td>\n",
       "      <td>40.712605</td>\n",
       "      <td>-73.962644</td>\n",
       "      <td>3109</td>\n",
       "      <td>Banker St &amp; Meserole Ave</td>\n",
       "      <td>40.726060</td>\n",
       "      <td>-73.956210</td>\n",
       "      <td>23648</td>\n",
       "      <td>Subscriber</td>\n",
       "      <td>1991.0</td>\n",
       "      <td>2</td>\n",
       "    </tr>\n",
       "    <tr>\n",
       "      <th>21</th>\n",
       "      <td>362</td>\n",
       "      <td>7/1/2016 00:02:01</td>\n",
       "      <td>7/1/2016 00:08:04</td>\n",
       "      <td>157</td>\n",
       "      <td>Henry St &amp; Atlantic Ave</td>\n",
       "      <td>40.690893</td>\n",
       "      <td>-73.996123</td>\n",
       "      <td>324</td>\n",
       "      <td>DeKalb Ave &amp; Hudson Ave</td>\n",
       "      <td>40.689888</td>\n",
       "      <td>-73.981013</td>\n",
       "      <td>16326</td>\n",
       "      <td>Subscriber</td>\n",
       "      <td>1966.0</td>\n",
       "      <td>1</td>\n",
       "    </tr>\n",
       "    <tr>\n",
       "      <th>15</th>\n",
       "      <td>533</td>\n",
       "      <td>7/1/2016 00:01:45</td>\n",
       "      <td>7/1/2016 00:10:39</td>\n",
       "      <td>284</td>\n",
       "      <td>Greenwich Ave &amp; 8 Ave</td>\n",
       "      <td>40.739017</td>\n",
       "      <td>-74.002638</td>\n",
       "      <td>212</td>\n",
       "      <td>W 16 St &amp; The High Line</td>\n",
       "      <td>40.743349</td>\n",
       "      <td>-74.006818</td>\n",
       "      <td>23249</td>\n",
       "      <td>Customer</td>\n",
       "      <td>NaN</td>\n",
       "      <td>0</td>\n",
       "    </tr>\n",
       "  </tbody>\n",
       "</table>\n",
       "</div>"
      ],
      "text/plain": [
       "    tripduration          starttime           stoptime  start station id  \\\n",
       "29           492  7/1/2016 00:02:32  7/1/2016 00:10:44               481   \n",
       "21           362  7/1/2016 00:02:01  7/1/2016 00:08:04               157   \n",
       "15           533  7/1/2016 00:01:45  7/1/2016 00:10:39               284   \n",
       "\n",
       "         start station name  start station latitude  start station longitude  \\\n",
       "29     S 3 St & Bedford Ave               40.712605               -73.962644   \n",
       "21  Henry St & Atlantic Ave               40.690893               -73.996123   \n",
       "15    Greenwich Ave & 8 Ave               40.739017               -74.002638   \n",
       "\n",
       "    end station id          end station name  end station latitude  \\\n",
       "29            3109  Banker St & Meserole Ave             40.726060   \n",
       "21             324   DeKalb Ave & Hudson Ave             40.689888   \n",
       "15             212   W 16 St & The High Line             40.743349   \n",
       "\n",
       "    end station longitude  bikeid    usertype  birth year  gender  \n",
       "29             -73.956210   23648  Subscriber      1991.0       2  \n",
       "21             -73.981013   16326  Subscriber      1966.0       1  \n",
       "15             -74.006818   23249    Customer         NaN       0  "
      ]
     },
     "execution_count": 22,
     "metadata": {},
     "output_type": "execute_result"
    }
   ],
   "source": [
    "df.sample(frac=0.1)"
   ]
  },
  {
   "cell_type": "markdown",
   "metadata": {},
   "source": [
    "### Запись в csv"
   ]
  },
  {
   "cell_type": "code",
   "execution_count": null,
   "metadata": {},
   "outputs": [],
   "source": [
    "df.to_csv('path_to_file.csv')"
   ]
  }
 ],
 "metadata": {
  "kernelspec": {
   "display_name": "Python 3",
   "language": "python",
   "name": "python3"
  },
  "language_info": {
   "codemirror_mode": {
    "name": "ipython",
    "version": 3
   },
   "file_extension": ".py",
   "mimetype": "text/x-python",
   "name": "python",
   "nbconvert_exporter": "python",
   "pygments_lexer": "ipython3",
   "version": "3.5.2"
  },
  "toc": {
   "nav_menu": {},
   "number_sections": true,
   "sideBar": true,
   "skip_h1_title": false,
   "toc_cell": false,
   "toc_position": {},
   "toc_section_display": "block",
   "toc_window_display": false
  },
  "varInspector": {
   "cols": {
    "lenName": 16,
    "lenType": 16,
    "lenVar": 40
   },
   "kernels_config": {
    "python": {
     "delete_cmd_postfix": "",
     "delete_cmd_prefix": "del ",
     "library": "var_list.py",
     "varRefreshCmd": "print(var_dic_list())"
    },
    "r": {
     "delete_cmd_postfix": ") ",
     "delete_cmd_prefix": "rm(",
     "library": "var_list.r",
     "varRefreshCmd": "cat(var_dic_list()) "
    }
   },
   "types_to_exclude": [
    "module",
    "function",
    "builtin_function_or_method",
    "instance",
    "_Feature"
   ],
   "window_display": false
  }
 },
 "nbformat": 4,
 "nbformat_minor": 2
}
